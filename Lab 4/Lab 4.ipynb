{
 "cells": [
  {
   "cell_type": "code",
   "execution_count": 14,
   "metadata": {},
   "outputs": [],
   "source": [
    "import sys\n",
    "sys.path.append('../')\n",
    "import pystan\n",
    "import stan_utility\n",
    "\n",
    "import arviz as az\n",
    "import numpy as np\n",
    "import scipy.stats as stats\n",
    "import pandas as pd"
   ]
  },
  {
   "cell_type": "code",
   "execution_count": 15,
   "metadata": {},
   "outputs": [],
   "source": [
    "import matplotlib.pyplot as plt\n",
    "import matplotlib as mpl\n",
    "\n",
    "light=\"#FFFCDC\"\n",
    "light_highlight=\"#FEF590\"\n",
    "mid=\"#FDED2A\"\n",
    "mid_highlight=\"#f0dc05\"\n",
    "dark=\"#EECA02\"\n",
    "dark_highlight=\"#BB9700\"\n",
    "green=\"#00FF00\"\n",
    "light_grey=\"#DDDDDD\"\n",
    "\n",
    "plt.style.context('seaborn-white')\n",
    "mpl.rcParams['figure.dpi']= 200"
   ]
  },
  {
   "cell_type": "code",
   "execution_count": 16,
   "metadata": {},
   "outputs": [
    {
     "data": {
      "text/html": [
       "<div>\n",
       "<style scoped>\n",
       "    .dataframe tbody tr th:only-of-type {\n",
       "        vertical-align: middle;\n",
       "    }\n",
       "\n",
       "    .dataframe tbody tr th {\n",
       "        vertical-align: top;\n",
       "    }\n",
       "\n",
       "    .dataframe thead th {\n",
       "        text-align: right;\n",
       "    }\n",
       "</style>\n",
       "<table border=\"1\" class=\"dataframe\">\n",
       "  <thead>\n",
       "    <tr style=\"text-align: right;\">\n",
       "      <th></th>\n",
       "      <th>Fatal accidents</th>\n",
       "      <th>Passenger deaths</th>\n",
       "      <th>Death rate</th>\n",
       "      <th>Miles flown [100 mln miles]</th>\n",
       "    </tr>\n",
       "    <tr>\n",
       "      <th>Year</th>\n",
       "      <th></th>\n",
       "      <th></th>\n",
       "      <th></th>\n",
       "      <th></th>\n",
       "    </tr>\n",
       "  </thead>\n",
       "  <tbody>\n",
       "    <tr>\n",
       "      <td>1976</td>\n",
       "      <td>24</td>\n",
       "      <td>734</td>\n",
       "      <td>0.19</td>\n",
       "      <td>3863.0</td>\n",
       "    </tr>\n",
       "    <tr>\n",
       "      <td>1977</td>\n",
       "      <td>25</td>\n",
       "      <td>516</td>\n",
       "      <td>0.12</td>\n",
       "      <td>4300.0</td>\n",
       "    </tr>\n",
       "    <tr>\n",
       "      <td>1978</td>\n",
       "      <td>31</td>\n",
       "      <td>754</td>\n",
       "      <td>0.15</td>\n",
       "      <td>5027.0</td>\n",
       "    </tr>\n",
       "    <tr>\n",
       "      <td>1979</td>\n",
       "      <td>31</td>\n",
       "      <td>877</td>\n",
       "      <td>0.16</td>\n",
       "      <td>5481.0</td>\n",
       "    </tr>\n",
       "    <tr>\n",
       "      <td>1980</td>\n",
       "      <td>22</td>\n",
       "      <td>814</td>\n",
       "      <td>0.14</td>\n",
       "      <td>5814.0</td>\n",
       "    </tr>\n",
       "    <tr>\n",
       "      <td>1981</td>\n",
       "      <td>21</td>\n",
       "      <td>362</td>\n",
       "      <td>0.06</td>\n",
       "      <td>6033.0</td>\n",
       "    </tr>\n",
       "    <tr>\n",
       "      <td>1982</td>\n",
       "      <td>26</td>\n",
       "      <td>764</td>\n",
       "      <td>0.13</td>\n",
       "      <td>5877.0</td>\n",
       "    </tr>\n",
       "    <tr>\n",
       "      <td>1983</td>\n",
       "      <td>20</td>\n",
       "      <td>809</td>\n",
       "      <td>0.13</td>\n",
       "      <td>6223.0</td>\n",
       "    </tr>\n",
       "    <tr>\n",
       "      <td>1984</td>\n",
       "      <td>16</td>\n",
       "      <td>223</td>\n",
       "      <td>0.03</td>\n",
       "      <td>7433.0</td>\n",
       "    </tr>\n",
       "    <tr>\n",
       "      <td>1985</td>\n",
       "      <td>22</td>\n",
       "      <td>1066</td>\n",
       "      <td>0.15</td>\n",
       "      <td>7107.0</td>\n",
       "    </tr>\n",
       "  </tbody>\n",
       "</table>\n",
       "</div>"
      ],
      "text/plain": [
       "      Fatal accidents  Passenger deaths  Death rate  \\\n",
       "Year                                                  \n",
       "1976               24               734        0.19   \n",
       "1977               25               516        0.12   \n",
       "1978               31               754        0.15   \n",
       "1979               31               877        0.16   \n",
       "1980               22               814        0.14   \n",
       "1981               21               362        0.06   \n",
       "1982               26               764        0.13   \n",
       "1983               20               809        0.13   \n",
       "1984               16               223        0.03   \n",
       "1985               22              1066        0.15   \n",
       "\n",
       "      Miles flown [100 mln miles]  \n",
       "Year                               \n",
       "1976                       3863.0  \n",
       "1977                       4300.0  \n",
       "1978                       5027.0  \n",
       "1979                       5481.0  \n",
       "1980                       5814.0  \n",
       "1981                       6033.0  \n",
       "1982                       5877.0  \n",
       "1983                       6223.0  \n",
       "1984                       7433.0  \n",
       "1985                       7107.0  "
      ]
     },
     "execution_count": 16,
     "metadata": {},
     "output_type": "execute_result"
    }
   ],
   "source": [
    "dts=[24,734,25,516,31,754,31,877,22,814,21,362,26,764,20,809,16,223,22,1066]\n",
    "c1=dts[::2]\n",
    "c2=dts[1::2]\n",
    "\n",
    "Airline_data=pd.DataFrame({'Year':[1976,1977,1978,1979,1980,1981,1982,1983,1984,1985],\n",
    "'Fatal accidents':c1,  \n",
    "'Passenger deaths':c2,\n",
    "'Death rate':[0.19,0.12,0.15,0.16,0.14,0.06,0.13,0.13,0.03,0.15]}).set_index('Year')\n",
    "Airline_data['Miles flown [100 mln miles]']=np.round(Airline_data['Passenger deaths']/Airline_data['Death rate'])\n",
    "\n",
    "## generation of vector for plotting samples under histograms\n",
    "acc=[]\n",
    "dta_cnt=[]\n",
    "for k in Airline_data['Fatal accidents']:  \n",
    "    dta_cnt.append(-(1.+acc.count(k)))\n",
    "    acc.append(k)\n",
    "dta_cnt=np.array(dta_cnt)\n",
    "\n",
    "Airline_data"
   ]
  },
  {
   "cell_type": "code",
   "execution_count": 21,
   "metadata": {},
   "outputs": [
    {
     "data": {
      "text/plain": [
       "691.9"
      ]
     },
     "execution_count": 21,
     "metadata": {},
     "output_type": "execute_result"
    }
   ],
   "source": [
    "#Mean of passenger deaths\n",
    "Airline_data['Passenger deaths'].mean()"
   ]
  },
  {
   "cell_type": "code",
   "execution_count": 22,
   "metadata": {},
   "outputs": [],
   "source": [
    "#Next I will try to do prior predictive checks with poisson distribution"
   ]
  },
  {
   "cell_type": "code",
   "execution_count": 47,
   "metadata": {},
   "outputs": [
    {
     "name": "stdout",
     "output_type": "stream",
     "text": [
      "\n",
      "generated quantities {\n",
      "    real lambda = normal_rng(692,250); //Mean is the mean of data, sigma higher for better representation\n",
      "    int deaths = poisson_rng(lambda);\n",
      "}\n"
     ]
    }
   ],
   "source": [
    "with open('prior_deaths.stan', 'r') as file:\n",
    "    print(file.read())"
   ]
  },
  {
   "cell_type": "code",
   "execution_count": 48,
   "metadata": {},
   "outputs": [
    {
     "name": "stderr",
     "output_type": "stream",
     "text": [
      "INFO:pystan:COMPILING THE C++ CODE FOR MODEL anon_model_ecef5bad59d11deb8ff2fd72811fb127 NOW.\n"
     ]
    }
   ],
   "source": [
    "model_ppc=stan_utility.compile_model('prior_deaths.stan')"
   ]
  },
  {
   "cell_type": "code",
   "execution_count": 49,
   "metadata": {},
   "outputs": [],
   "source": [
    "R = 1000\n",
    "sim=model_ppc.sampling(data=dict(), \n",
    "                       iter=R, warmup=0, \n",
    "                       chains=1, \n",
    "                       refresh=R,\n",
    "                       algorithm='Fixed_param',\n",
    "                       seed=29042020)"
   ]
  },
  {
   "cell_type": "code",
   "execution_count": 50,
   "metadata": {},
   "outputs": [],
   "source": [
    "params_sim=sim.extract()\n",
    "lambda_sim=params_sim['lambda']\n",
    "deaths_sim=params_sim['deaths']"
   ]
  },
  {
   "cell_type": "code",
   "execution_count": 51,
   "metadata": {},
   "outputs": [
    {
     "name": "stderr",
     "output_type": "stream",
     "text": [
      "/home/rsi96/anaconda3/lib/python3.7/site-packages/numpy/lib/histograms.py:829: RuntimeWarning: invalid value encountered in greater_equal\n",
      "  keep = (tmp_a >= first_edge)\n",
      "/home/rsi96/anaconda3/lib/python3.7/site-packages/numpy/lib/histograms.py:830: RuntimeWarning: invalid value encountered in less_equal\n",
      "  keep &= (tmp_a <= last_edge)\n"
     ]
    },
    {
     "data": {
      "image/png": "[encoded data removed]",
      "text/plain": [
       "<Figure size 1400x800 with 2 Axes>"
      ]
     },
     "metadata": {
      "needs_background": "light"
     },
     "output_type": "display_data"
    }
   ],
   "source": [
    "fig = plt.figure(figsize=(7, 4))\n",
    "\n",
    "gs = fig.add_gridspec(2,1)\n",
    "ax1 = fig.add_subplot(gs[1])\n",
    "ax1.hist(deaths_sim,bins=100,color=dark,edgecolor=dark_highlight,density=True)\n",
    "ax1.set_title('Simulated deaths')\n",
    "\n",
    "ax2 = fig.add_subplot(gs[0])\n",
    "ax2.set_yticks([])\n",
    "ax2.hist(lambda_sim,bins=100,color=dark,edgecolor=dark_highlight,density=True)\n",
    "\n",
    "ax2.plot(x,y,'black')\n",
    "ax2.set_title('$\\lambda$')\n",
    "ax2.set_yticks([])\n",
    "\n",
    "fig.tight_layout()\n",
    "plt.show()\n",
    "\n"
   ]
  },
  {
   "cell_type": "code",
   "execution_count": 52,
   "metadata": {},
   "outputs": [],
   "source": [
    "#Prior predictive is quite belivable so i think its ok"
   ]
  },
  {
   "cell_type": "code",
   "execution_count": 53,
   "metadata": {},
   "outputs": [],
   "source": [
    "#Next is posterior and interference"
   ]
  },
  {
   "cell_type": "code",
   "execution_count": 54,
   "metadata": {},
   "outputs": [
    {
     "name": "stdout",
     "output_type": "stream",
     "text": [
      "data {\n",
      "    int N;\n",
      "    int deaths[N];\n",
      "}\n",
      "\n",
      "parameters{\n",
      "    real<lower=0> lambda;\n",
      "}\n",
      "\n",
      "model {\n",
      "    lambda ~ normal(692,250);\n",
      "    deaths ~ poisson(lambda);\n",
      "}\n",
      "\n",
      "generated quantities {\n",
      "    int deaths_gen = poisson_rng(lambda);\n",
      "}\n"
     ]
    }
   ],
   "source": [
    "with open('posterior_deaths.stan', 'r') as file:\n",
    "    print(file.read())"
   ]
  },
  {
   "cell_type": "code",
   "execution_count": 55,
   "metadata": {},
   "outputs": [
    {
     "name": "stderr",
     "output_type": "stream",
     "text": [
      "INFO:pystan:COMPILING THE C++ CODE FOR MODEL anon_model_165cdf3f314dbefe0df173a6710ce28c NOW.\n"
     ]
    }
   ],
   "source": [
    "model_1_fit=stan_utility.compile_model('posterior_deaths.stan')"
   ]
  },
  {
   "cell_type": "code",
   "execution_count": 56,
   "metadata": {},
   "outputs": [],
   "source": [
    "fit=model_1_fit.sampling(data=dict(N=len(Airline_data['Passenger deaths']),\n",
    "                                   deaths=Airline_data['Passenger deaths']),\n",
    "                         seed=28052020)"
   ]
  },
  {
   "cell_type": "code",
   "execution_count": 57,
   "metadata": {},
   "outputs": [
    {
     "data": {
      "text/html": [
       "<div>\n",
       "<style scoped>\n",
       "    .dataframe tbody tr th:only-of-type {\n",
       "        vertical-align: middle;\n",
       "    }\n",
       "\n",
       "    .dataframe tbody tr th {\n",
       "        vertical-align: top;\n",
       "    }\n",
       "\n",
       "    .dataframe thead th {\n",
       "        text-align: right;\n",
       "    }\n",
       "</style>\n",
       "<table border=\"1\" class=\"dataframe\">\n",
       "  <thead>\n",
       "    <tr style=\"text-align: right;\">\n",
       "      <th></th>\n",
       "      <th>mean</th>\n",
       "      <th>sd</th>\n",
       "      <th>hpd_3%</th>\n",
       "      <th>hpd_97%</th>\n",
       "    </tr>\n",
       "  </thead>\n",
       "  <tbody>\n",
       "    <tr>\n",
       "      <td>lambda</td>\n",
       "      <td>691.85</td>\n",
       "      <td>8.25</td>\n",
       "      <td>676.61</td>\n",
       "      <td>707.47</td>\n",
       "    </tr>\n",
       "  </tbody>\n",
       "</table>\n",
       "</div>"
      ],
      "text/plain": [
       "          mean    sd  hpd_3%  hpd_97%\n",
       "lambda  691.85  8.25  676.61   707.47"
      ]
     },
     "execution_count": 57,
     "metadata": {},
     "output_type": "execute_result"
    }
   ],
   "source": [
    "az.summary(fit,var_names=['lambda'],round_to=2,kind='stats')"
   ]
  },
  {
   "cell_type": "code",
   "execution_count": 58,
   "metadata": {},
   "outputs": [],
   "source": [
    "params_fit=fit.extract()\n",
    "lambda_fit=params_fit['lambda']\n",
    "deaths_pred=params_fit['deaths_gen']"
   ]
  },
  {
   "cell_type": "code",
   "execution_count": 60,
   "metadata": {},
   "outputs": [
    {
     "data": {
      "image/png": "[encoded data removed]",
      "text/plain": [
       "<Figure size 1400x800 with 2 Axes>"
      ]
     },
     "metadata": {
      "needs_background": "light"
     },
     "output_type": "display_data"
    }
   ],
   "source": [
    "fig, axes = plt.subplots(1, 2, figsize=(7, 4),sharex=True,sharey=True)\n",
    "ax=axes[0]\n",
    "ax.hist(Airline_data['Passenger deaths'],bins=20,color=dark,edgecolor=dark_highlight,density=True)\n",
    "ax.set_title('Observed deaths')\n",
    "ax.set_yticks(());\n",
    "ax2=axes[1]\n",
    "ax2.hist(deaths_pred,bins=20,color=dark,edgecolor=dark_highlight,density=True)\n",
    "ax2.set_title('Predicted deaths')\n",
    "ax2.set_yticks(());\n",
    "fig.tight_layout()\n",
    "\n",
    "plt.show()"
   ]
  },
  {
   "cell_type": "code",
   "execution_count": null,
   "metadata": {},
   "outputs": [],
   "source": [
    "# We can see that predicted deaths are tightly packed around mean when observed deaths were spread wider. I think that is possible becouse we had few data and wit"
   ]
  }
 ],
 "metadata": {
  "kernelspec": {
   "display_name": "Python 3",
   "language": "python",
   "name": "python3"
  },
  "language_info": {
   "codemirror_mode": {
    "name": "ipython",
    "version": 3
   },
   "file_extension": ".py",
   "mimetype": "text/x-python",
   "name": "python",
   "nbconvert_exporter": "python",
   "pygments_lexer": "ipython3",
   "version": "3.7.4"
  }
 },
 "nbformat": 4,
 "nbformat_minor": 2
}
